{
  "nbformat": 4,
  "nbformat_minor": 0,
  "metadata": {
    "colab": {
      "name": "Chat_with_GPT3.ipynb",
      "provenance": [],
      "authorship_tag": "ABX9TyP17Zj8nG4ijNIeZZD/YY6K",
      "include_colab_link": true
    },
    "kernelspec": {
      "name": "python3",
      "display_name": "Python 3"
    },
    "language_info": {
      "name": "python"
    }
  },
  "cells": [
    {
      "cell_type": "markdown",
      "metadata": {
        "id": "view-in-github",
        "colab_type": "text"
      },
      "source": [
        "<a href=\"https://colab.research.google.com/github/Han-Archives/Using_API/blob/main/Chat_with_GPT3.ipynb\" target=\"_parent\"><img src=\"https://colab.research.google.com/assets/colab-badge.svg\" alt=\"Open In Colab\"/></a>"
      ]
    },
    {
      "cell_type": "code",
      "source": [
        "!pip install openai"
      ],
      "metadata": {
        "colab": {
          "base_uri": "https://localhost:8080/",
          "height": 597
        },
        "id": "bpcqlyc6Ccud",
        "outputId": "c83a7d87-3ebd-4b36-d0cd-21f497546edf"
      },
      "execution_count": 3,
      "outputs": [
        {
          "output_type": "stream",
          "name": "stdout",
          "text": [
            "Collecting openai\n",
            "  Downloading openai-0.14.0.tar.gz (40 kB)\n",
            "\u001b[?25l\r\u001b[K     |████████                        | 10 kB 26.3 MB/s eta 0:00:01\r\u001b[K     |████████████████                | 20 kB 33.1 MB/s eta 0:00:01\r\u001b[K     |████████████████████████▏       | 30 kB 13.5 MB/s eta 0:00:01\r\u001b[K     |████████████████████████████████| 40 kB 3.3 MB/s \n",
            "\u001b[?25hRequirement already satisfied: requests>=2.20 in /usr/local/lib/python3.7/dist-packages (from openai) (2.23.0)\n",
            "Requirement already satisfied: tqdm in /usr/local/lib/python3.7/dist-packages (from openai) (4.62.3)\n",
            "Requirement already satisfied: pandas>=1.2.3 in /usr/local/lib/python3.7/dist-packages (from openai) (1.3.5)\n",
            "Collecting pandas-stubs>=1.1.0.11\n",
            "  Downloading pandas_stubs-1.2.0.47-py3-none-any.whl (161 kB)\n",
            "\u001b[K     |████████████████████████████████| 161 kB 18.0 MB/s \n",
            "\u001b[?25hRequirement already satisfied: openpyxl>=3.0.7 in /usr/local/lib/python3.7/dist-packages (from openai) (3.0.9)\n",
            "Requirement already satisfied: et-xmlfile in /usr/local/lib/python3.7/dist-packages (from openpyxl>=3.0.7->openai) (1.1.0)\n",
            "Requirement already satisfied: numpy>=1.17.3 in /usr/local/lib/python3.7/dist-packages (from pandas>=1.2.3->openai) (1.19.5)\n",
            "Requirement already satisfied: pytz>=2017.3 in /usr/local/lib/python3.7/dist-packages (from pandas>=1.2.3->openai) (2018.9)\n",
            "Requirement already satisfied: python-dateutil>=2.7.3 in /usr/local/lib/python3.7/dist-packages (from pandas>=1.2.3->openai) (2.8.2)\n",
            "Requirement already satisfied: typing-extensions>=3.7.4.3 in /usr/local/lib/python3.7/dist-packages (from pandas-stubs>=1.1.0.11->openai) (3.10.0.2)\n",
            "Requirement already satisfied: six>=1.5 in /usr/local/lib/python3.7/dist-packages (from python-dateutil>=2.7.3->pandas>=1.2.3->openai) (1.15.0)\n",
            "Requirement already satisfied: certifi>=2017.4.17 in /usr/local/lib/python3.7/dist-packages (from requests>=2.20->openai) (2021.10.8)\n",
            "Requirement already satisfied: urllib3!=1.25.0,!=1.25.1,<1.26,>=1.21.1 in /usr/local/lib/python3.7/dist-packages (from requests>=2.20->openai) (1.24.3)\n",
            "Requirement already satisfied: idna<3,>=2.5 in /usr/local/lib/python3.7/dist-packages (from requests>=2.20->openai) (2.10)\n",
            "Requirement already satisfied: chardet<4,>=3.0.2 in /usr/local/lib/python3.7/dist-packages (from requests>=2.20->openai) (3.0.4)\n",
            "Building wheels for collected packages: openai\n",
            "  Building wheel for openai (setup.py) ... \u001b[?25l\u001b[?25hdone\n",
            "  Created wheel for openai: filename=openai-0.14.0-py3-none-any.whl size=49824 sha256=0e8e16be306c19a5912200602701d1eff5bc90676e681551f312efa1cbd5c3b3\n",
            "  Stored in directory: /root/.cache/pip/wheels/45/5f/9e/6035f88eb6fc313fd26ddb4d4b65bfb6fa02d7e5a124160fe9\n",
            "Successfully built openai\n",
            "Installing collected packages: pandas-stubs, openai\n",
            "Successfully installed openai-0.14.0 pandas-stubs-1.2.0.47\n"
          ]
        },
        {
          "output_type": "display_data",
          "data": {
            "application/vnd.colab-display-data+json": {
              "pip_warning": {
                "packages": [
                  "pandas"
                ]
              }
            }
          },
          "metadata": {}
        }
      ]
    },
    {
      "cell_type": "code",
      "execution_count": 4,
      "metadata": {
        "colab": {
          "base_uri": "https://localhost:8080/"
        },
        "id": "OThoRQxG414H",
        "outputId": "4f0601b1-e413-4f90-c101-27b2fa6e9f77"
      },
      "outputs": [
        {
          "output_type": "stream",
          "name": "stdout",
          "text": [
            "Mounted at /content/drive\n"
          ]
        }
      ],
      "source": [
        "\"\"\" API \"\"\"\n",
        "import os, sys\n",
        "from google.colab import drive\n",
        "import pandas as pd\n",
        "import openai\n",
        "import requests\n",
        "\n",
        "drive.mount('/content/drive')"
      ]
    },
    {
      "cell_type": "code",
      "source": [
        "# naver_api\n",
        "naver_api = pd.read_csv('/content/drive/MyDrive/Colab Notebooks/naver_api.txt', sep=',')\n",
        "naver_api = list(naver_api) # [0]:id , [1]:pw\n",
        "\n",
        "# openai_api\n",
        "openai_api = pd.read_csv('/content/drive/MyDrive/Colab Notebooks/openai_api.txt')\n",
        "openai_api = list(openai_api)\n",
        "openai.api_key = openai_api[0]"
      ],
      "metadata": {
        "id": "U4z50iMoCREw"
      },
      "execution_count": 5,
      "outputs": []
    },
    {
      "cell_type": "code",
      "source": [
        "# using papago\n",
        "def translate(text,o_lang,t_lang):\n",
        "  data = {'text':text, 'source':o_lang,'target':t_lang} \n",
        "\n",
        "  client_id = naver_api[0]\n",
        "  client_secret = naver_api[1]\n",
        "  url = \"https://openapi.naver.com/v1/papago/n2mt\"\n",
        "\n",
        "  header = {\"X-Naver-Client-Id\":client_id,\"X-Naver-Client-Secret\":client_secret}\n",
        "\n",
        "  response = requests.post(url, headers=header, data= data)\n",
        "  rescode = response.status_code\n",
        "\n",
        "  if(rescode==200):\n",
        "    t_data = response.json()\n",
        "    \n",
        "    return t_data['message']['result']['translatedText']\n",
        "  else:\n",
        "    print('Error Code: ', rescode)"
      ],
      "metadata": {
        "id": "kq-OqymQACm2"
      },
      "execution_count": 69,
      "outputs": []
    },
    {
      "cell_type": "markdown",
      "source": [
        "# 파파고 국가별 언어\n",
        "\n",
        "*   한국어 - ko\n",
        "*   영어 - en\n",
        "*   중국어간체 - zh-CN\n",
        "*   중국어번체 - zh-TW\n",
        "*   일본어 - ja\n",
        "*   인도어 - hi\n",
        "*   스페인어 - es\n",
        "*   베트남어 - vi\n",
        "*   프랑스어 - fr\n",
        "*   독일어 - de\n",
        "*   포르투칼어 - pt\n",
        "*   인도네시아어 - id\n",
        "*   페르시아어 - fa\n",
        "*   아랍어 - ar\n",
        "*   러시아어 - ru\n",
        "*   미얀마어 - mm\n",
        "*   태국어 - th\n",
        "*   이탈리아어 - it\n",
        "\n",
        "\n",
        "\n"
      ],
      "metadata": {
        "id": "y-plt1SSEbdM"
      }
    },
    {
      "cell_type": "code",
      "source": [
        "def gpt3(text):\n",
        "  openai.api_key = openai_api[0]\n",
        "  response = openai.Completion.create(engine=\"davinci\", prompt=text, temperature=0.4, max_tokens=30)\n",
        "  \n",
        "  answer = response.choices[0].text.split('.')[0]\n",
        "  answer = answer.replace('\\n\\n','')\n",
        "  answer = answer.replace('”“', '')\n",
        "\n",
        "  return answer"
      ],
      "metadata": {
        "id": "3ZngoMHBEPem"
      },
      "execution_count": 73,
      "outputs": []
    },
    {
      "cell_type": "code",
      "source": [
        "text = input(\"하고 싶은말 입력하시오. \\n\")\n",
        "translate(text,'ko','en')\n",
        "text = translate(text,'ko','en')\n",
        "print('번역: ',text) # 질문을 영어로 변환\n",
        "print('\\n')\n",
        "\n",
        "# GPT-3\n",
        "gpt3(text)\n",
        "answer = gpt3(text)\n",
        "print(answer)\n",
        "translate(answer,'en','ko')\n",
        "answer = translate(answer,'en','ko')\n",
        "print('번역: ',answer)\n",
        "print('\\n')"
      ],
      "metadata": {
        "colab": {
          "base_uri": "https://localhost:8080/"
        },
        "id": "HVB3i6kHAcWP",
        "outputId": "4ebeb6b0-04f7-4e7b-c74f-2a561282e48c"
      },
      "execution_count": 74,
      "outputs": [
        {
          "output_type": "stream",
          "name": "stdout",
          "text": [
            "하고 싶은말 입력하시오. \n",
            "머하니?\n",
            "번역:  What are you doing?\n",
            "\n",
            "\n",
            "I’m going to get a drink of water\n",
            "번역:  물 한 잔 마셔야겠어요.\n",
            "\n",
            "\n"
          ]
        }
      ]
    },
    {
      "cell_type": "markdown",
      "source": [
        "GPT-3 의 temperatrue 값에 따라 답변이 다르게 나온다. 온도 차이의 변화에 따른 답변의 차이를 살펴보자"
      ],
      "metadata": {
        "id": "UYut51aK8WaW"
      }
    },
    {
      "cell_type": "code",
      "source": [
        "def test_gpt3(text, temp):\n",
        "  openai.api_key = openai_api[0]\n",
        "  response = openai.Completion.create(engine=\"davinci\", prompt=text, temperature=temp, max_tokens=30)\n",
        "  \n",
        "  answer = response.choices[0].text.split('.')[0]\n",
        "  answer = answer.replace('\\n\\n','')\n",
        "  answer = answer.replace('”“', '')\n",
        "\n",
        "  return answer"
      ],
      "metadata": {
        "id": "zupPNIQv8o0p"
      },
      "execution_count": 64,
      "outputs": []
    },
    {
      "cell_type": "code",
      "source": [
        "# Question1. 어떤 영화 좋아해?\n",
        "text = input(\"하고 싶은말 입력하시오. \\n\")\n",
        "translate(text,'ko','en')\n",
        "text = translate(text,'ko','en')\n",
        "print('번역: ',text) # 질문을 영어로 변환\n",
        "print('\\n')\n",
        "\n",
        "# answer1 (temp = 0.1)\n",
        "test_gpt3(text, 0.1)\n",
        "answer1 = test_gpt3(text, 0.1)\n",
        "print('---- temp 0.1 -------')\n",
        "print(answer1)\n",
        "translate(answer1,'en','ko')\n",
        "answer=translate(answer1,'en','ko')\n",
        "print('번역: ',answer)\n",
        "print('\\n')\n",
        "\n",
        "# answer2 (temp = 0.4)\n",
        "test_gpt3(text, 0.4)\n",
        "answer2 = test_gpt3(text, 0.4)\n",
        "print('---- temp 0.4 -------')\n",
        "print(answer2)\n",
        "translate(answer2,'en','ko')\n",
        "answer=translate(answer2,'en','ko')\n",
        "print('번역: ',answer)\n",
        "print('\\n')\n",
        "\n",
        "# answer3 (temp = 0.6)\n",
        "test_gpt3(text, 0.6)\n",
        "answer3 = test_gpt3(text, 0.6)\n",
        "print('---- temp 0.6 -------')\n",
        "print(answer3)\n",
        "translate(answer3,'en','ko')\n",
        "answer=translate(answer3,'en','ko')\n",
        "print('번역: ',answer)\n",
        "print('\\n')\n",
        "\n",
        "# answer4 (temp = 0.9)\n",
        "test_gpt3(text, 0.9)\n",
        "answer4 = test_gpt3(text, 0.9)\n",
        "print('---- temp 0.9 -------')\n",
        "print(answer4)\n",
        "translate(answer4,'en','ko')\n",
        "answer = translate(answer4,'en','ko')\n",
        "print('번역: ',answer)\n",
        "print('\\n')\n"
      ],
      "metadata": {
        "colab": {
          "base_uri": "https://localhost:8080/"
        },
        "id": "35z9PDf96bUA",
        "outputId": "f176fe52-761b-409d-fbc0-dd139af1f3ed"
      },
      "execution_count": 75,
      "outputs": [
        {
          "output_type": "stream",
          "name": "stdout",
          "text": [
            "하고 싶은말 입력하시오. \n",
            "어떤 영화 좋아하세요?\n",
            "번역:  What kind of movie do you like?\n",
            "\n",
            "\n",
            "---- temp 0.1 -------\n",
            "I like action movies\n",
            "번역:  나는 액션 영화를 좋아한다.\n",
            "\n",
            "\n",
            "---- temp 0.4 -------\n",
            "I like action movies, comedies, and horror movies\n",
            "번역:  나는 액션 영화, 코미디, 공포 영화를 좋아한다.\n",
            "\n",
            "\n",
            "---- temp 0.6 -------\n",
            "I like action movies, but I also like romance movies\n",
            "번역:  나는 액션 영화도 좋아하지만 로맨스 영화도 좋아한다.\n",
            "\n",
            "\n",
            "---- temp 0.9 -------\n",
            "The type that’s provoking enough to keep me thinking\n",
            "번역:  그런 생각이 들 정도로 자극적인 타입이\n",
            "\n",
            "\n"
          ]
        }
      ]
    },
    {
      "cell_type": "code",
      "source": [
        "# Question2 점심 머 먹을래?\n",
        "text = input(\"하고 싶은말 입력하시오. \\n\")\n",
        "translate(text,'ko','en')\n",
        "text = translate(text,'ko','en')\n",
        "print('번역: ',text) # 질문을 영어로 변환\n",
        "print('\\n')\n",
        "\n",
        "# answer1 (temp = 0.1)\n",
        "test_gpt3(text, 0.1)\n",
        "answer1 = test_gpt3(text, 0.1)\n",
        "print('---- temp 0.1 -------')\n",
        "print(answer1)\n",
        "translate(answer1,'en','ko')\n",
        "answer=translate(answer1,'en','ko')\n",
        "print('번역: ',answer)\n",
        "print('\\n')\n",
        "\n",
        "# answer2 (temp = 0.4)\n",
        "test_gpt3(text, 0.4)\n",
        "answer2 = test_gpt3(text, 0.4)\n",
        "print('---- temp 0.4 -------')\n",
        "print(answer2)\n",
        "translate(answer2,'en','ko')\n",
        "answer=translate(answer2,'en','ko')\n",
        "print('번역: ',answer)\n",
        "print('\\n')\n",
        "\n",
        "# answer3 (temp = 0.6)\n",
        "test_gpt3(text, 0.6)\n",
        "answer3 = test_gpt3(text, 0.6)\n",
        "print('---- temp 0.6 -------')\n",
        "print(answer3)\n",
        "translate(answer3,'en','ko')\n",
        "answer=translate(answer3,'en','ko')\n",
        "print('번역: ',answer)\n",
        "print('\\n')\n",
        "\n",
        "# answer4 (temp = 0.9)\n",
        "test_gpt3(text, 0.9)\n",
        "answer4 = test_gpt3(text, 0.9)\n",
        "print('---- temp 0.9 -------')\n",
        "print(answer4)\n",
        "translate(answer4,'en','ko')\n",
        "answer = translate(answer4,'en','ko')\n",
        "print('번역: ',answer)\n",
        "print('\\n')\n"
      ],
      "metadata": {
        "colab": {
          "base_uri": "https://localhost:8080/"
        },
        "id": "AtCvPYK37mZQ",
        "outputId": "901baf67-02c0-418b-f10f-c33775913a21"
      },
      "execution_count": 76,
      "outputs": [
        {
          "output_type": "stream",
          "name": "stdout",
          "text": [
            "하고 싶은말 입력하시오. \n",
            "점심 머 먹을래?\n",
            "번역:  What do you want for lunch?\n",
            "\n",
            "\n",
            "---- temp 0.1 -------\n",
            "I don’t know\n",
            "번역:  나는 모른다.\n",
            "\n",
            "\n",
            "---- temp 0.4 -------\n",
            "I don’t know\n",
            "번역:  나는 모른다.\n",
            "\n",
            "\n",
            "---- temp 0.6 -------\n",
            "I’m not hungry\n",
            "번역:  배고프지 않아\n",
            "\n",
            "\n",
            "---- temp 0.9 -------\n",
            "” my daughter asks\n",
            "번역:  \" 내 딸이 묻다.\n",
            "\n",
            "\n"
          ]
        }
      ]
    },
    {
      "cell_type": "code",
      "source": [
        "# Question3. BTS에 어떻게 생각해?\n",
        "text = input(\"하고 싶은말 입력하시오. \\n\")\n",
        "translate(text,'ko','en')\n",
        "text = translate(text,'ko','en')\n",
        "print('번역: ',text) # 질문을 영어로 변환\n",
        "print('\\n')\n",
        "\n",
        "# answer1 (temp = 0.1)\n",
        "test_gpt3(text, 0.1)\n",
        "answer1 = test_gpt3(text, 0.1)\n",
        "print('---- temp 0.1 -------')\n",
        "print(answer1)\n",
        "translate(answer1,'en','ko')\n",
        "answer=translate(answer1,'en','ko')\n",
        "print('번역: ',answer)\n",
        "print('\\n')\n",
        "\n",
        "# answer2 (temp = 0.4)\n",
        "test_gpt3(text, 0.4)\n",
        "answer2 = test_gpt3(text, 0.4)\n",
        "print('---- temp 0.4 -------')\n",
        "print(answer2)\n",
        "translate(answer2,'en','ko')\n",
        "answer=translate(answer2,'en','ko')\n",
        "print('번역: ',answer)\n",
        "print('\\n')\n",
        "\n",
        "# answer3 (temp = 0.6)\n",
        "test_gpt3(text, 0.6)\n",
        "answer3 = test_gpt3(text, 0.6)\n",
        "print('---- temp 0.6 -------')\n",
        "print(answer3)\n",
        "translate(answer3,'en','ko')\n",
        "answer=translate(answer3,'en','ko')\n",
        "print('번역: ',answer)\n",
        "print('\\n')\n",
        "\n",
        "# answer4 (temp = 0.9)\n",
        "test_gpt3(text, 0.9)\n",
        "answer4 = test_gpt3(text, 0.9)\n",
        "print('---- temp 0.9 -------')\n",
        "print(answer4)\n",
        "translate(answer4,'en','ko')\n",
        "answer = translate(answer4,'en','ko')\n",
        "print('번역: ',answer)\n",
        "print('\\n')"
      ],
      "metadata": {
        "colab": {
          "base_uri": "https://localhost:8080/"
        },
        "id": "LuBJ-Jw7Gxwl",
        "outputId": "35e8f0b2-19ee-48c9-c045-99abc2660fc2"
      },
      "execution_count": 81,
      "outputs": [
        {
          "output_type": "stream",
          "name": "stdout",
          "text": [
            "하고 싶은말 입력하시오. \n",
            "BTS에 대해 어떻게 생각해?\n",
            "번역:  What do you think about BTS?\n",
            "\n",
            "\n",
            "---- temp 0.1 -------\n",
            "I think they’re really cool\n",
            "번역:  진짜 멋있는 것 같아요.\n",
            "\n",
            "\n",
            "---- temp 0.4 -------\n",
            "I think they are amazing\n",
            "번역:  나는 그들이 대단하다고 생각한다.\n",
            "\n",
            "\n",
            "---- temp 0.6 -------\n",
            "They’re all so talented and I love that they’re all so young\n",
            "번역:  그들은 모두 재능있고 너무 젊어서 좋다.\n",
            "\n",
            "\n",
            "---- temp 0.9 -------\n",
            " Let us know in the comments below!\n",
            "번역:  아래 댓글로 알려주세요.\n",
            "\n",
            "\n"
          ]
        }
      ]
    },
    {
      "cell_type": "code",
      "source": [
        "# Question4. 김정은 어떻게 생각해?\n",
        "text = input(\"하고 싶은말 입력하시오. \\n\")\n",
        "translate(text,'ko','en')\n",
        "text = translate(text,'ko','en')\n",
        "print('번역: ',text) # 질문을 영어로 변환\n",
        "print('\\n')\n",
        "\n",
        "# answer1 (temp = 0.1)\n",
        "test_gpt3(text, 0.1)\n",
        "answer1 = test_gpt3(text, 0.1)\n",
        "print('---- temp 0.1 -------')\n",
        "print(answer1)\n",
        "translate(answer1,'en','ko')\n",
        "answer=translate(answer1,'en','ko')\n",
        "print('번역: ',answer)\n",
        "print('\\n')\n",
        "\n",
        "# answer2 (temp = 0.4)\n",
        "test_gpt3(text, 0.4)\n",
        "answer2 = test_gpt3(text, 0.4)\n",
        "print('---- temp 0.4 -------')\n",
        "print(answer2)\n",
        "translate(answer2,'en','ko')\n",
        "answer=translate(answer2,'en','ko')\n",
        "print('번역: ',answer)\n",
        "print('\\n')\n",
        "\n",
        "# answer3 (temp = 0.6)\n",
        "test_gpt3(text, 0.6)\n",
        "answer3 = test_gpt3(text, 0.6)\n",
        "print('---- temp 0.6 -------')\n",
        "print(answer3)\n",
        "translate(answer3,'en','ko')\n",
        "answer=translate(answer3,'en','ko')\n",
        "print('번역: ',answer)\n",
        "print('\\n')\n",
        "\n",
        "# answer4 (temp = 0.9)\n",
        "test_gpt3(text, 0.9)\n",
        "answer4 = test_gpt3(text, 0.9)\n",
        "print('---- temp 0.9 -------')\n",
        "print(answer4)\n",
        "translate(answer4,'en','ko')\n",
        "answer = translate(answer4,'en','ko')\n",
        "print('번역: ',answer)\n",
        "print('\\n')"
      ],
      "metadata": {
        "colab": {
          "base_uri": "https://localhost:8080/"
        },
        "id": "xBFKNZNiHVyW",
        "outputId": "10a2a9f6-3021-4377-f539-f3ae7058c986"
      },
      "execution_count": 83,
      "outputs": [
        {
          "output_type": "stream",
          "name": "stdout",
          "text": [
            "하고 싶은말 입력하시오. \n",
            "김정은 어떻게 생각해?\n",
            "번역:  What do you think about Kim Jong Un?\n",
            "\n",
            "\n",
            "---- temp 0.1 -------\n",
            "I think he’s a great guy\n",
            "번역:  나는 그가 좋은 사람이라고 생각한다.\n",
            "\n",
            "\n",
            "---- temp 0.4 -------\n",
            "I think he's a pretty smart cookie\n",
            "번역:  내 생각에 그는 꽤 똑똑한 것 같아.\n",
            "\n",
            "\n",
            "---- temp 0.6 -------\n",
            "I think he's a maniac\n",
            "번역:  그는 미친 사람 같아요.\n",
            "\n",
            "\n",
            "---- temp 0.9 -------\n",
            "I’m not a fan\n",
            "번역:  저는 팬이 아닙니다.\n",
            "\n",
            "\n"
          ]
        }
      ]
    },
    {
      "cell_type": "code",
      "source": [
        ""
      ],
      "metadata": {
        "id": "ZXZkpIQgHWnO"
      },
      "execution_count": null,
      "outputs": []
    }
  ]
}